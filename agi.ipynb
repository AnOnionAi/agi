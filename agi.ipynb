{
  "nbformat": 4,
  "nbformat_minor": 0,
  "metadata": {
    "colab": {
      "provenance": []
    },
    "kernelspec": {
      "name": "python3",
      "display_name": "Python 3"
    },
    "language_info": {
      "name": "python"
    }
  },
  "cells": [
    {
      "cell_type": "markdown",
      "source": [
        "Clone the Repo"
      ],
      "metadata": {
        "id": "u2jyxZf6qqu7"
      }
    },
    {
      "cell_type": "code",
      "execution_count": 1,
      "metadata": {
        "colab": {
          "base_uri": "https://localhost:8080/"
        },
        "id": "LNPRxmTwnmQi",
        "outputId": "e35e17d1-9505-4b85-d541-7b3a679f966d"
      },
      "outputs": [
        {
          "output_type": "stream",
          "name": "stdout",
          "text": [
            "Cloning into 'agi'...\n",
            "remote: Enumerating objects: 14, done.\u001b[K\n",
            "remote: Counting objects: 100% (14/14), done.\u001b[K\n",
            "remote: Compressing objects: 100% (11/11), done.\u001b[K\n",
            "remote: Total 14 (delta 0), reused 7 (delta 0), pack-reused 0\u001b[K\n",
            "Receiving objects: 100% (14/14), 4.78 KiB | 1.19 MiB/s, done.\n"
          ]
        }
      ],
      "source": [
        "!git clone https://github.com/ZetiAi/agi.git"
      ]
    },
    {
      "cell_type": "markdown",
      "source": [
        "Move to the Directory"
      ],
      "metadata": {
        "id": "p-b33Amaqv-Q"
      }
    },
    {
      "cell_type": "code",
      "source": [
        "%cd agi"
      ],
      "metadata": {
        "colab": {
          "base_uri": "https://localhost:8080/"
        },
        "id": "3lj3jEUVqdzo",
        "outputId": "9046db75-fa94-42ed-971b-4bb7fc7271ea"
      },
      "execution_count": 2,
      "outputs": [
        {
          "output_type": "stream",
          "name": "stdout",
          "text": [
            "/content/agi\n"
          ]
        }
      ]
    },
    {
      "cell_type": "markdown",
      "source": [
        "Install Poetry\n"
      ],
      "metadata": {
        "id": "diz963Dzq0Ut"
      }
    },
    {
      "cell_type": "code",
      "source": [
        "!sudo apt update\n",
        "!sudo apt install pipx\n",
        "!pipx ensurepath\n",
        "!pipx install poetry"
      ],
      "metadata": {
        "colab": {
          "base_uri": "https://localhost:8080/"
        },
        "id": "7IovSSWoqlUf",
        "outputId": "b2fde9c6-a81d-4f34-ae5b-a4f9560eb63f"
      },
      "execution_count": 12,
      "outputs": [
        {
          "output_type": "stream",
          "name": "stdout",
          "text": [
            "\u001b[33m\r0% [Working]\u001b[0m\r            \rHit:1 http://security.ubuntu.com/ubuntu jammy-security InRelease\n",
            "\u001b[33m\r0% [Connecting to archive.ubuntu.com (185.125.190.39)] [Connected to cloud.r-pr\u001b[0m\r                                                                               \rHit:2 https://cloud.r-project.org/bin/linux/ubuntu jammy-cran40/ InRelease\n",
            "\u001b[33m\r0% [Connecting to archive.ubuntu.com (185.125.190.39)] [Connecting to ppa.launc\u001b[0m\r                                                                               \rHit:3 https://developer.download.nvidia.com/compute/cuda/repos/ubuntu2204/x86_64  InRelease\n",
            "\u001b[33m\r0% [Waiting for headers] [Connecting to ppa.launchpadcontent.net (185.125.190.8\u001b[0m\u001b[33m\r0% [Waiting for headers] [Connecting to ppa.launchpadcontent.net (185.125.190.8\u001b[0m\r                                                                               \rHit:4 http://archive.ubuntu.com/ubuntu jammy InRelease\n",
            "Hit:5 http://archive.ubuntu.com/ubuntu jammy-updates InRelease\n",
            "Hit:6 http://archive.ubuntu.com/ubuntu jammy-backports InRelease\n",
            "Hit:7 https://ppa.launchpadcontent.net/c2d4u.team/c2d4u4.0+/ubuntu jammy InRelease\n",
            "Hit:8 https://ppa.launchpadcontent.net/deadsnakes/ppa/ubuntu jammy InRelease\n",
            "Hit:9 https://ppa.launchpadcontent.net/graphics-drivers/ppa/ubuntu jammy InRelease\n",
            "Hit:10 https://ppa.launchpadcontent.net/ubuntugis/ppa/ubuntu jammy InRelease\n",
            "Reading package lists... Done\n",
            "Building dependency tree... Done\n",
            "Reading state information... Done\n",
            "30 packages can be upgraded. Run 'apt list --upgradable' to see them.\n",
            "Reading package lists... Done\n",
            "Building dependency tree... Done\n",
            "Reading state information... Done\n",
            "pipx is already the newest version (1.0.0-1).\n",
            "0 upgraded, 0 newly installed, 0 to remove and 30 not upgraded.\n",
            "\u001b[?25l/root/.local/bin has been been added to PATH, but you need to open a new terminal or re-login for\n",
            "    this PATH change to take effect.\n",
            "\n",
            "You will need to open a new terminal or re-login for the PATH changes to take effect.\n",
            "\n",
            "Otherwise pipx is ready to go! ✨ 🌟 ✨\n",
            "\u001b[?25h\u001b[0m\u001b[?25l'poetry' already seems to be installed. Not modifying existing installation in\n",
            "'/root/.local/pipx/venvs/poetry'. Pass '--force' to force installation.\n",
            "\u001b[?25h\u001b[0m\u001b[33mThe currently activated Python version 3.10.12 is not supported by the project (^3.12).\n",
            "Trying to find and use a compatible version.\u001b[39m \n",
            "\n",
            "\u001b[31;1mPoetry was unable to find a compatible version. If you have one, you can explicitly use it via the \"env use\" command.\u001b[39;22m\n"
          ]
        }
      ]
    },
    {
      "cell_type": "markdown",
      "source": [
        "Train the Model"
      ],
      "metadata": {
        "id": "Bkst_V8Hq50E"
      }
    },
    {
      "cell_type": "code",
      "source": [
        "!poetry run python src/main.py train"
      ],
      "metadata": {
        "colab": {
          "base_uri": "https://localhost:8080/"
        },
        "id": "IrMNtoUYqnsl",
        "outputId": "8263af1a-4095-45dc-a9e4-5ab7513c585e"
      },
      "execution_count": 15,
      "outputs": [
        {
          "output_type": "stream",
          "name": "stdout",
          "text": [
            "/bin/bash: line 1: poetry: command not found\n"
          ]
        }
      ]
    },
    {
      "cell_type": "code",
      "source": [
        "!/root/.local/bin/poetry env use 3.11\n"
      ],
      "metadata": {
        "colab": {
          "base_uri": "https://localhost:8080/"
        },
        "id": "opom9ySVssKA",
        "outputId": "ea5798f6-4241-420b-99e6-26ee60b78da1"
      },
      "execution_count": 14,
      "outputs": [
        {
          "output_type": "stream",
          "name": "stdout",
          "text": [
            "\n",
            "\u001b[31;1mCould not find the python executable python3.11\u001b[39;22m\n"
          ]
        }
      ]
    }
  ]
}